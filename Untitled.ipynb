{
 "cells": [
  {
   "cell_type": "code",
   "execution_count": 2,
   "id": "8c1bd571",
   "metadata": {},
   "outputs": [
    {
     "name": "stderr",
     "output_type": "stream",
     "text": [
      "C:\\Users\\josep\\anaconda3\\envs\\nlp-39\\lib\\site-packages\\tqdm\\auto.py:22: TqdmWarning: IProgress not found. Please update jupyter and ipywidgets. See https://ipywidgets.readthedocs.io/en/stable/user_install.html\n",
      "  from .autonotebook import tqdm as notebook_tqdm\n"
     ]
    }
   ],
   "source": [
    "from sentence_transformers import SentenceTransformer, LoggingHandler, models, evaluation, losses\n",
    "from torch.utils.data import DataLoader\n",
    "from sentence_transformers.datasets import ParallelSentencesDataset\n",
    "from datetime import datetime\n",
    "\n",
    "import os\n",
    "import logging\n",
    "import sentence_transformers.util\n",
    "import csv\n",
    "#import gzip\n",
    "from tqdm.autonotebook import tqdm\n",
    "import numpy as np\n",
    "import zipfile\n",
    "import io\n",
    "import pandas as pd\n"
   ]
  },
  {
   "cell_type": "code",
   "execution_count": 3,
   "id": "fa2879a8",
   "metadata": {},
   "outputs": [],
   "source": [
    "logging.basicConfig(format='%(asctime)s - %(message)s',\n",
    "                    datefmt='%Y-%m-%d %H:%M:%S',\n",
    "                    level=logging.INFO,\n",
    "                    handlers=[LoggingHandler()])\n",
    "logger = logging.getLogger(__name__)        \n",
    "\n",
    "source_languages = ['en']\n",
    "target_languages = ['es']\n",
    "\n",
    "#output_path = \"output/make-multilingual-\"+\"-\".join(sorted(list(source_languages))+sorted(list(target_languages)))+\"-\"+datetime.now().strftime(\"%Y-%m-%d_%H-%M-%S\")\n"
   ]
  },
  {
   "cell_type": "code",
   "execution_count": 4,
   "id": "6cbc7a58",
   "metadata": {},
   "outputs": [
    {
     "name": "stderr",
     "output_type": "stream",
     "text": [
      "Some weights of the model checkpoint at C:\\Users\\josep/.cache\\torch\\sentence_transformers\\bert-base-multilingual-cased were not used when initializing BertModel: ['cls.seq_relationship.weight', 'cls.predictions.transform.LayerNorm.weight', 'cls.predictions.bias', 'cls.predictions.transform.dense.bias', 'cls.predictions.decoder.weight', 'cls.predictions.transform.LayerNorm.bias', 'cls.predictions.transform.dense.weight', 'cls.seq_relationship.bias']\n",
      "- This IS expected if you are initializing BertModel from the checkpoint of a model trained on another task or with another architecture (e.g. initializing a BertForSequenceClassification model from a BertForPreTraining model).\n",
      "- This IS NOT expected if you are initializing BertModel from the checkpoint of a model that you expect to be exactly identical (initializing a BertForSequenceClassification model from a BertForSequenceClassification model).\n"
     ]
    }
   ],
   "source": [
    "%%capture\n",
    "\n",
    "teacher_model_name = 'all-mpnet-base-v2'\n",
    "student_model_name = 'bert-base-multilingual-cased'\n",
    "\n",
    "from sentence_transformers import SentenceTransformer, util\n",
    "\n",
    "teacher_model = SentenceTransformer(teacher_model_name)\n",
    "student_model = SentenceTransformer(student_model_name)\n",
    "\n",
    "model_load = SentenceTransformer('Spanish_SBERT/modelos_entrenados/Spanish_SBERT_100')"
   ]
  },
  {
   "cell_type": "code",
   "execution_count": 5,
   "id": "2f1a446a",
   "metadata": {},
   "outputs": [],
   "source": [
    "evaluators = []         #evaluators has a list of different evaluator classes we call periodically\n",
    "\n",
    "dev_file = \"Spanish_SBERT/datasets/en-es-tsv_dev.tsv\"\n",
    "sts_corpus = \"Spanish_SBERT/datasets/STS2017-extended.zip\"\n",
    "inference_batch_size = 64\n",
    "\n",
    "#logger.info(\"Create evaluator for \" + dev_file)\n",
    "src_sentences = []\n",
    "trg_sentences = []\n",
    "\n",
    "dev_data = pd.read_csv( dev_file , sep = '\\t' )\n",
    "for source, target in zip( dev_data['source'], dev_data['target'] ):\n",
    "    src_sentences.append(source)\n",
    "    trg_sentences.append(target)\n",
    "\n",
    "\n",
    "#Mean Squared Error (MSE) measures the (euclidean) distance between teacher and student embeddings\n",
    "dev_mse = evaluation.MSEEvaluator(src_sentences, trg_sentences, name=os.path.basename(dev_file), teacher_model=teacher_model, batch_size=inference_batch_size)\n",
    "evaluators.append(dev_mse)\n",
    "\n",
    "# TranslationEvaluator computes the embeddings for all parallel sentences. It then check if the embedding of source[i] is the closest to target[i] out of all available target sentences\n",
    "dev_trans_acc = evaluation.TranslationEvaluator(src_sentences, trg_sentences, name=os.path.basename(dev_file),batch_size=inference_batch_size)\n",
    "evaluators.append(dev_trans_acc)\n",
    "\n",
    "############################################################\n",
    "\n",
    "all_languages = ['en', 'es']\n",
    "sts_data = {}\n",
    "\n",
    "#Open the ZIP File of STS2017-extended.zip and check for which language combinations we have STS data\n",
    "with zipfile.ZipFile(sts_corpus) as zip:\n",
    "    filelist = zip.namelist()\n",
    "    sts_files = []\n",
    "\n",
    "    for i in range(len(all_languages)):\n",
    "        for j in range(i, len(all_languages)):\n",
    "            lang1 = all_languages[i]\n",
    "            lang2 = all_languages[j]\n",
    "            filepath = 'STS2017-extended/STS.{}-{}.txt'.format(lang1, lang2)\n",
    "            if filepath not in filelist:\n",
    "                lang1, lang2 = lang2, lang1\n",
    "                filepath = 'STS2017-extended/STS.{}-{}.txt'.format(lang1, lang2)\n",
    "\n",
    "            if filepath in filelist:\n",
    "                filename = os.path.basename(filepath)\n",
    "                sts_data[filename] = {'sentences1': [], 'sentences2': [], 'scores': []}\n",
    "\n",
    "                fIn = zip.open(filepath)\n",
    "                for line in io.TextIOWrapper(fIn, 'utf8'):\n",
    "                    sent1, sent2, score = line.strip().split(\"\\t\")\n",
    "                    score = float(score)\n",
    "                    sts_data[filename]['sentences1'].append(sent1)\n",
    "                    sts_data[filename]['sentences2'].append(sent2)\n",
    "                    sts_data[filename]['scores'].append(score)\n",
    "\n",
    "for filename, data in sts_data.items():\n",
    "    test_evaluator = evaluation.EmbeddingSimilarityEvaluator(data['sentences1'], data['sentences2'], data['scores'], batch_size=inference_batch_size, name=filename, show_progress_bar=False)\n",
    "    evaluators.append(test_evaluator)\n",
    "\n",
    "test_evaluator_en_en = evaluators[2]\n",
    "test_evaluator_es_es = evaluators[4]"
   ]
  },
  {
   "cell_type": "code",
   "execution_count": 6,
   "id": "04b6b96b",
   "metadata": {},
   "outputs": [
    {
     "name": "stdout",
     "output_type": "stream",
     "text": [
      "2022-11-23 11:51:45 - EmbeddingSimilarityEvaluator: Evaluating the model on STS.en-en.txt dataset:\n",
      "2022-11-23 11:51:45 - Cosine-Similarity :\tPearson: 0.9091\tSpearman: 0.9060\n",
      "2022-11-23 11:51:45 - Manhattan-Distance:\tPearson: 0.8982\tSpearman: 0.9069\n",
      "2022-11-23 11:51:45 - Euclidean-Distance:\tPearson: 0.8985\tSpearman: 0.9060\n",
      "2022-11-23 11:51:45 - Dot-Product-Similarity:\tPearson: 0.9091\tSpearman: 0.9060\n"
     ]
    },
    {
     "data": {
      "text/plain": [
       "0.9068706496728889"
      ]
     },
     "execution_count": 6,
     "metadata": {},
     "output_type": "execute_result"
    }
   ],
   "source": [
    "test_evaluator_en_en( teacher_model )"
   ]
  },
  {
   "cell_type": "code",
   "execution_count": 7,
   "id": "16ac64be",
   "metadata": {},
   "outputs": [
    {
     "name": "stdout",
     "output_type": "stream",
     "text": [
      "2022-11-23 11:51:45 - EmbeddingSimilarityEvaluator: Evaluating the model on STS.es-es.txt dataset:\n",
      "2022-11-23 11:51:46 - Cosine-Similarity :\tPearson: 0.5456\tSpearman: 0.5669\n",
      "2022-11-23 11:51:46 - Manhattan-Distance:\tPearson: 0.5727\tSpearman: 0.5717\n",
      "2022-11-23 11:51:46 - Euclidean-Distance:\tPearson: 0.5743\tSpearman: 0.5737\n",
      "2022-11-23 11:51:46 - Dot-Product-Similarity:\tPearson: 0.3576\tSpearman: 0.3705\n"
     ]
    },
    {
     "data": {
      "text/plain": [
       "0.5737029785343253"
      ]
     },
     "execution_count": 7,
     "metadata": {},
     "output_type": "execute_result"
    }
   ],
   "source": [
    "test_evaluator_es_es( student_model )"
   ]
  },
  {
   "cell_type": "code",
   "execution_count": 8,
   "id": "42dc6127",
   "metadata": {},
   "outputs": [
    {
     "name": "stdout",
     "output_type": "stream",
     "text": [
      "2022-11-23 11:51:46 - EmbeddingSimilarityEvaluator: Evaluating the model on STS.es-es.txt dataset:\n",
      "2022-11-23 11:51:46 - Cosine-Similarity :\tPearson: 0.6931\tSpearman: 0.7352\n",
      "2022-11-23 11:51:46 - Manhattan-Distance:\tPearson: 0.7254\tSpearman: 0.7170\n",
      "2022-11-23 11:51:46 - Euclidean-Distance:\tPearson: 0.7242\tSpearman: 0.7155\n",
      "2022-11-23 11:51:46 - Dot-Product-Similarity:\tPearson: 0.5532\tSpearman: 0.5806\n"
     ]
    },
    {
     "data": {
      "text/plain": [
       "0.7352274038094662"
      ]
     },
     "execution_count": 8,
     "metadata": {},
     "output_type": "execute_result"
    }
   ],
   "source": [
    "test_evaluator_es_es( model_load )"
   ]
  },
  {
   "cell_type": "code",
   "execution_count": 9,
   "id": "12e17a9e",
   "metadata": {},
   "outputs": [
    {
     "name": "stdout",
     "output_type": "stream",
     "text": [
      "2022-11-23 11:51:46 - Load pretrained SentenceTransformer: multi-qa-MiniLM-L6-cos-v1\n",
      "2022-11-23 11:51:46 - Use pytorch device: cuda\n"
     ]
    }
   ],
   "source": [
    "model2 = SentenceTransformer( 'multi-qa-MiniLM-L6-cos-v1' )"
   ]
  },
  {
   "cell_type": "code",
   "execution_count": 10,
   "id": "dafdcdbf",
   "metadata": {},
   "outputs": [
    {
     "name": "stdout",
     "output_type": "stream",
     "text": [
      "2022-11-23 11:51:46 - Load pretrained SentenceTransformer: sentence-transformers/distiluse-base-multilingual-cased-v2\n",
      "2022-11-23 11:51:48 - Use pytorch device: cuda\n",
      "2022-11-23 11:51:48 - Load pretrained SentenceTransformer: xlm-roberta-base\n",
      "2022-11-23 11:51:53 - No sentence-transformers model found with name C:\\Users\\josep/.cache\\torch\\sentence_transformers\\xlm-roberta-base. Creating a new one with MEAN pooling.\n"
     ]
    },
    {
     "name": "stderr",
     "output_type": "stream",
     "text": [
      "Some weights of the model checkpoint at C:\\Users\\josep/.cache\\torch\\sentence_transformers\\xlm-roberta-base were not used when initializing XLMRobertaModel: ['lm_head.dense.weight', 'lm_head.layer_norm.bias', 'lm_head.dense.bias', 'lm_head.layer_norm.weight', 'lm_head.decoder.weight', 'lm_head.bias']\n",
      "- This IS expected if you are initializing XLMRobertaModel from the checkpoint of a model trained on another task or with another architecture (e.g. initializing a BertForSequenceClassification model from a BertForPreTraining model).\n",
      "- This IS NOT expected if you are initializing XLMRobertaModel from the checkpoint of a model that you expect to be exactly identical (initializing a BertForSequenceClassification model from a BertForSequenceClassification model).\n"
     ]
    },
    {
     "name": "stdout",
     "output_type": "stream",
     "text": [
      "2022-11-23 11:51:57 - Use pytorch device: cuda\n",
      "2022-11-23 11:51:57 - Load pretrained SentenceTransformer: Spanish_SBERT/modelos_entrenados/Spanish_SBERT_100_2\n",
      "2022-11-23 11:51:58 - Use pytorch device: cuda\n"
     ]
    }
   ],
   "source": [
    "from sentence_transformers import SentenceTransformer\n",
    "model3 = SentenceTransformer( 'sentence-transformers/distiluse-base-multilingual-cased-v2' )\n",
    "model4 = SentenceTransformer( 'xlm-roberta-base' )\n",
    "model5 = SentenceTransformer( 'Spanish_SBERT/modelos_entrenados/Spanish_SBERT_100_2'  )"
   ]
  },
  {
   "cell_type": "code",
   "execution_count": 11,
   "id": "8779cb8e",
   "metadata": {},
   "outputs": [
    {
     "name": "stdout",
     "output_type": "stream",
     "text": [
      "2022-11-23 11:51:58 - EmbeddingSimilarityEvaluator: Evaluating the model on STS.es-es.txt dataset:\n",
      "2022-11-23 11:51:58 - Cosine-Similarity :\tPearson: 0.7475\tSpearman: 0.7498\n",
      "2022-11-23 11:51:58 - Manhattan-Distance:\tPearson: 0.7629\tSpearman: 0.7438\n",
      "2022-11-23 11:51:58 - Euclidean-Distance:\tPearson: 0.7671\tSpearman: 0.7499\n",
      "2022-11-23 11:51:58 - Dot-Product-Similarity:\tPearson: 0.7475\tSpearman: 0.7498\n"
     ]
    },
    {
     "data": {
      "text/plain": [
       "0.7498557571348351"
      ]
     },
     "execution_count": 11,
     "metadata": {},
     "output_type": "execute_result"
    }
   ],
   "source": [
    "test_evaluator_es_es( model2 )"
   ]
  },
  {
   "cell_type": "code",
   "execution_count": 12,
   "id": "66229638",
   "metadata": {
    "scrolled": true
   },
   "outputs": [
    {
     "name": "stdout",
     "output_type": "stream",
     "text": [
      "2022-11-23 11:51:58 - EmbeddingSimilarityEvaluator: Evaluating the model on STS.en-en.txt dataset:\n",
      "2022-11-23 11:51:58 - Cosine-Similarity :\tPearson: 0.7891\tSpearman: 0.8118\n",
      "2022-11-23 11:51:58 - Manhattan-Distance:\tPearson: 0.8024\tSpearman: 0.8112\n",
      "2022-11-23 11:51:58 - Euclidean-Distance:\tPearson: 0.8026\tSpearman: 0.8118\n",
      "2022-11-23 11:51:58 - Dot-Product-Similarity:\tPearson: 0.7891\tSpearman: 0.8118\n"
     ]
    },
    {
     "data": {
      "text/plain": [
       "0.8118059230233499"
      ]
     },
     "execution_count": 12,
     "metadata": {},
     "output_type": "execute_result"
    }
   ],
   "source": [
    "test_evaluator_en_en( model2 )"
   ]
  },
  {
   "cell_type": "code",
   "execution_count": 13,
   "id": "10e9a5bd",
   "metadata": {},
   "outputs": [
    {
     "name": "stdout",
     "output_type": "stream",
     "text": [
      "2022-11-23 11:51:58 - EmbeddingSimilarityEvaluator: Evaluating the model on STS.es-es.txt dataset:\n",
      "2022-11-23 11:51:59 - Cosine-Similarity :\tPearson: 0.8399\tSpearman: 0.8371\n",
      "2022-11-23 11:51:59 - Manhattan-Distance:\tPearson: 0.8490\tSpearman: 0.8331\n",
      "2022-11-23 11:51:59 - Euclidean-Distance:\tPearson: 0.8514\tSpearman: 0.8369\n",
      "2022-11-23 11:51:59 - Dot-Product-Similarity:\tPearson: 0.8023\tSpearman: 0.8007\n"
     ]
    },
    {
     "data": {
      "text/plain": [
       "0.8371182297187156"
      ]
     },
     "execution_count": 13,
     "metadata": {},
     "output_type": "execute_result"
    }
   ],
   "source": [
    "test_evaluator_es_es( model3 )"
   ]
  },
  {
   "cell_type": "code",
   "execution_count": 14,
   "id": "24093453",
   "metadata": {},
   "outputs": [
    {
     "name": "stdout",
     "output_type": "stream",
     "text": [
      "2022-11-23 11:51:59 - EmbeddingSimilarityEvaluator: Evaluating the model on STS.en-en.txt dataset:\n",
      "2022-11-23 11:51:59 - Cosine-Similarity :\tPearson: 0.8523\tSpearman: 0.8619\n",
      "2022-11-23 11:51:59 - Manhattan-Distance:\tPearson: 0.8514\tSpearman: 0.8482\n",
      "2022-11-23 11:51:59 - Euclidean-Distance:\tPearson: 0.8591\tSpearman: 0.8590\n",
      "2022-11-23 11:51:59 - Dot-Product-Similarity:\tPearson: 0.8443\tSpearman: 0.8501\n"
     ]
    },
    {
     "data": {
      "text/plain": [
       "0.8618847213007086"
      ]
     },
     "execution_count": 14,
     "metadata": {},
     "output_type": "execute_result"
    }
   ],
   "source": [
    "test_evaluator_en_en( model3 )"
   ]
  },
  {
   "cell_type": "code",
   "execution_count": 15,
   "id": "58a0737b",
   "metadata": {},
   "outputs": [
    {
     "name": "stdout",
     "output_type": "stream",
     "text": [
      "2022-11-23 11:51:59 - EmbeddingSimilarityEvaluator: Evaluating the model on STS.es-es.txt dataset:\n",
      "2022-11-23 11:51:59 - Cosine-Similarity :\tPearson: 0.3469\tSpearman: 0.4959\n",
      "2022-11-23 11:51:59 - Manhattan-Distance:\tPearson: 0.5540\tSpearman: 0.5843\n",
      "2022-11-23 11:51:59 - Euclidean-Distance:\tPearson: 0.4544\tSpearman: 0.5001\n",
      "2022-11-23 11:51:59 - Dot-Product-Similarity:\tPearson: -0.2192\tSpearman: -0.2006\n"
     ]
    },
    {
     "data": {
      "text/plain": [
       "0.5842757741826827"
      ]
     },
     "execution_count": 15,
     "metadata": {},
     "output_type": "execute_result"
    }
   ],
   "source": [
    "test_evaluator_es_es( model4 )"
   ]
  },
  {
   "cell_type": "code",
   "execution_count": 16,
   "id": "ad6caa75",
   "metadata": {},
   "outputs": [
    {
     "name": "stdout",
     "output_type": "stream",
     "text": [
      "2022-11-23 11:51:59 - EmbeddingSimilarityEvaluator: Evaluating the model on STS.en-en.txt dataset:\n",
      "2022-11-23 11:52:00 - Cosine-Similarity :\tPearson: 0.3611\tSpearman: 0.5217\n",
      "2022-11-23 11:52:00 - Manhattan-Distance:\tPearson: 0.5659\tSpearman: 0.6035\n",
      "2022-11-23 11:52:00 - Euclidean-Distance:\tPearson: 0.4601\tSpearman: 0.5225\n",
      "2022-11-23 11:52:00 - Dot-Product-Similarity:\tPearson: -0.1636\tSpearman: -0.2065\n"
     ]
    },
    {
     "data": {
      "text/plain": [
       "0.6035398716515022"
      ]
     },
     "execution_count": 16,
     "metadata": {},
     "output_type": "execute_result"
    }
   ],
   "source": [
    "test_evaluator_en_en( model4 )"
   ]
  },
  {
   "cell_type": "code",
   "execution_count": 17,
   "id": "55d1aea7",
   "metadata": {},
   "outputs": [
    {
     "name": "stdout",
     "output_type": "stream",
     "text": [
      "2022-11-23 11:52:00 - EmbeddingSimilarityEvaluator: Evaluating the model on STS.es-es.txt dataset:\n",
      "2022-11-23 11:52:00 - Cosine-Similarity :\tPearson: 0.7341\tSpearman: 0.7740\n",
      "2022-11-23 11:52:00 - Manhattan-Distance:\tPearson: 0.7608\tSpearman: 0.7555\n",
      "2022-11-23 11:52:00 - Euclidean-Distance:\tPearson: 0.7597\tSpearman: 0.7536\n",
      "2022-11-23 11:52:00 - Dot-Product-Similarity:\tPearson: 0.6196\tSpearman: 0.6481\n"
     ]
    },
    {
     "data": {
      "text/plain": [
       "0.7739676816399853"
      ]
     },
     "execution_count": 17,
     "metadata": {},
     "output_type": "execute_result"
    }
   ],
   "source": [
    "test_evaluator_es_es( model5 )"
   ]
  },
  {
   "cell_type": "code",
   "execution_count": 18,
   "id": "e01108ac",
   "metadata": {},
   "outputs": [
    {
     "name": "stdout",
     "output_type": "stream",
     "text": [
      "2022-11-23 11:52:00 - EmbeddingSimilarityEvaluator: Evaluating the model on STS.en-en.txt dataset:\n",
      "2022-11-23 11:52:00 - Cosine-Similarity :\tPearson: 0.7121\tSpearman: 0.7522\n",
      "2022-11-23 11:52:00 - Manhattan-Distance:\tPearson: 0.7195\tSpearman: 0.7326\n",
      "2022-11-23 11:52:00 - Euclidean-Distance:\tPearson: 0.7185\tSpearman: 0.7307\n",
      "2022-11-23 11:52:00 - Dot-Product-Similarity:\tPearson: 0.6607\tSpearman: 0.6720\n"
     ]
    },
    {
     "data": {
      "text/plain": [
       "0.7521583414001083"
      ]
     },
     "execution_count": 18,
     "metadata": {},
     "output_type": "execute_result"
    }
   ],
   "source": [
    "test_evaluator_en_en( model5 )"
   ]
  },
  {
   "cell_type": "code",
   "execution_count": null,
   "id": "78b2b47b",
   "metadata": {},
   "outputs": [],
   "source": []
  },
  {
   "cell_type": "code",
   "execution_count": 11,
   "id": "2e0db3b3",
   "metadata": {},
   "outputs": [],
   "source": [
    "#test_evaluator_en_en\n",
    "#test_evaluator_es_es\n",
    "\n",
    "#teacher_model\n",
    "#student_model"
   ]
  },
  {
   "cell_type": "code",
   "execution_count": 16,
   "id": "80087f91",
   "metadata": {},
   "outputs": [
    {
     "name": "stderr",
     "output_type": "stream",
     "text": [
      "Batches: 100%|██████████| 1/1 [00:00<00:00, 19.20it/s]\n",
      "Batches: 100%|██████████| 1/1 [00:00<00:00, 21.68it/s]\n",
      "Batches: 100%|██████████| 1/1 [00:00<00:00, 21.91it/s]\n",
      "Batches: 100%|██████████| 1/1 [00:00<00:00, 19.20it/s]\n",
      "Batches: 100%|██████████| 1/1 [00:00<00:00, 27.24it/s]\n",
      "Batches: 100%|██████████| 1/1 [00:00<00:00, 87.66it/s]\n",
      "Batches: 100%|██████████| 1/1 [00:00<00:00, 144.01it/s]\n"
     ]
    }
   ],
   "source": [
    "sent1_es = 'hola me gustaria abrir una cuenta en su banco'\n",
    "sent1_en = 'hello i would like to open an account at your bank'\n",
    "\n",
    "#sent2 = 'estimados quiero tener una cuenta corriente con ustedes'\n",
    "\n",
    "code1 = teacher_model.encode(sent1_en)\n",
    "\n",
    "code2_1 = student_model.encode(sent1_en)\n",
    "code2_2 = student_model.encode(sent1_es)\n",
    "\n",
    "code3_1 = model_load.encode(sent1_en)\n",
    "code3_2 = model_load.encode(sent1_es)\n",
    "\n",
    "code4_1 = model3.encode(sent1_en)\n",
    "code4_2 = model3.encode(sent1_es)"
   ]
  },
  {
   "cell_type": "code",
   "execution_count": 19,
   "id": "60bf8997",
   "metadata": {},
   "outputs": [
    {
     "name": "stdout",
     "output_type": "stream",
     "text": [
      "tensor([[4.3812]])\n",
      "tensor([[2.3415]])\n",
      "tensor([[62.9598]])\n",
      "\n",
      "tensor([[40.8690]])\n",
      "tensor([[43.7166]])\n",
      "tensor([[92.4074]])\n",
      "\n",
      "tensor([[95.7490]])\n"
     ]
    }
   ],
   "source": [
    "print( util.cos_sim(code2_1, code1)*100 )\n",
    "print( util.cos_sim(code2_2, code1)*100 )\n",
    "print( util.cos_sim(code2_1, code2_2)*100 )\n",
    "print()\n",
    "print( util.cos_sim(code3_1, code1)*100 )\n",
    "print( util.cos_sim(code3_2, code1)*100 )\n",
    "print( util.cos_sim(code3_1, code3_2)*100 )\n",
    "print()\n",
    "print( util.cos_sim(code4_1, code4_2)*100 )\n",
    "#print( util.cos_sim(code4_2, code1)*100 )\n"
   ]
  },
  {
   "cell_type": "code",
   "execution_count": null,
   "id": "a6ef8128",
   "metadata": {},
   "outputs": [],
   "source": []
  },
  {
   "cell_type": "code",
   "execution_count": null,
   "id": "38327750",
   "metadata": {},
   "outputs": [],
   "source": []
  },
  {
   "cell_type": "code",
   "execution_count": null,
   "id": "432fb1cd",
   "metadata": {},
   "outputs": [],
   "source": []
  },
  {
   "cell_type": "code",
   "execution_count": null,
   "id": "b0e08e3f",
   "metadata": {},
   "outputs": [],
   "source": []
  },
  {
   "cell_type": "code",
   "execution_count": null,
   "id": "2fb7b894",
   "metadata": {},
   "outputs": [],
   "source": []
  },
  {
   "cell_type": "code",
   "execution_count": 14,
   "id": "a29fdf77",
   "metadata": {},
   "outputs": [
    {
     "data": {
      "text/plain": [
       "(384,)"
      ]
     },
     "execution_count": 14,
     "metadata": {},
     "output_type": "execute_result"
    }
   ],
   "source": [
    "code4_1.shape"
   ]
  },
  {
   "cell_type": "code",
   "execution_count": 15,
   "id": "37109a05",
   "metadata": {},
   "outputs": [],
   "source": [
    "num0 = []\n",
    "num1 = []\n",
    "\n",
    "code4_1_list = code4_1.tolist()\n",
    "\n",
    "for i in range(384):\n",
    "    num0.append(0)\n",
    "    \n",
    "for i in range( len(code4_1_list) ):\n",
    "    num0.append( float( code4_1_list[i] ) )\n",
    "    num1.append( float( code4_1_list[i] ) )\n",
    "\n",
    "for i in range(384):\n",
    "    num1.append(0)"
   ]
  },
  {
   "cell_type": "code",
   "execution_count": 16,
   "id": "29a93e0a",
   "metadata": {},
   "outputs": [],
   "source": [
    "num0 = np.array( [num0] )\n",
    "num1 = np.array( [num1] )"
   ]
  },
  {
   "cell_type": "code",
   "execution_count": 17,
   "id": "c6eab21b",
   "metadata": {},
   "outputs": [],
   "source": [
    "#print( util.cos_sim(code3_2, num0)*100 )\n",
    "#print( util.cos_sim(code3_2, num1)*100 )"
   ]
  },
  {
   "cell_type": "code",
   "execution_count": 18,
   "id": "c0e026ac",
   "metadata": {},
   "outputs": [],
   "source": [
    "#code3_2.shape"
   ]
  },
  {
   "cell_type": "code",
   "execution_count": 19,
   "id": "0906352e",
   "metadata": {},
   "outputs": [],
   "source": [
    "#num1.T.shape"
   ]
  },
  {
   "cell_type": "code",
   "execution_count": 20,
   "id": "34644301",
   "metadata": {},
   "outputs": [],
   "source": [
    "#print( util.cos_sim(code4_2, num1)*100 )"
   ]
  },
  {
   "cell_type": "code",
   "execution_count": 21,
   "id": "60c86bfb",
   "metadata": {},
   "outputs": [],
   "source": [
    "#np.array( code4_1.tolist().append(0) )"
   ]
  },
  {
   "cell_type": "code",
   "execution_count": null,
   "id": "bfb2569f",
   "metadata": {},
   "outputs": [],
   "source": []
  },
  {
   "cell_type": "code",
   "execution_count": null,
   "id": "5527d2d3",
   "metadata": {},
   "outputs": [],
   "source": []
  },
  {
   "cell_type": "code",
   "execution_count": null,
   "id": "80fabb62",
   "metadata": {},
   "outputs": [],
   "source": []
  },
  {
   "cell_type": "code",
   "execution_count": null,
   "id": "f89971df",
   "metadata": {},
   "outputs": [],
   "source": []
  },
  {
   "cell_type": "markdown",
   "id": "90ae53b8",
   "metadata": {},
   "source": [
    "# Traduccion"
   ]
  },
  {
   "cell_type": "code",
   "execution_count": 22,
   "id": "5192c88b",
   "metadata": {},
   "outputs": [
    {
     "name": "stderr",
     "output_type": "stream",
     "text": [
      "C:\\Users\\josep\\anaconda3\\envs\\nlp-39\\lib\\site-packages\\transformers\\models\\marian\\tokenization_marian.py:194: UserWarning: Recommended: pip install sacremoses.\n",
      "  warnings.warn(\"Recommended: pip install sacremoses.\")\n"
     ]
    },
    {
     "name": "stdout",
     "output_type": "stream",
     "text": [
      "[{'translation_text': '¿Cómo estás?'}]\n"
     ]
    }
   ],
   "source": [
    "from transformers import pipeline\n",
    "\n",
    "model_checkpoint_1 = 'Helsinki-NLP/opus-mt-en-es'\n",
    "model_checkpoint_2 = 'Helsinki-NLP/opus-mt-es-en'\n",
    "#model_checkpoint_2 = 'mrm8488/mbart-large-finetuned-opus-en-es-translation'\n",
    "\n",
    "translator_en_es = pipeline(\"translation\", model = model_checkpoint_1)\n",
    "translator_es_en = pipeline(\"translation\", model = model_checkpoint_2)\n",
    "\n",
    "en_sentence = \"How are you?\"\n",
    "\n",
    "print(translator_en_es(en_sentence))\n"
   ]
  },
  {
   "cell_type": "code",
   "execution_count": 23,
   "id": "ad71c467",
   "metadata": {},
   "outputs": [
    {
     "name": "stdout",
     "output_type": "stream",
     "text": [
      "hello i would like to open an account at your bank\n",
      "Hello I'd like to open an account in your bank\n"
     ]
    }
   ],
   "source": [
    "print( sent1_en )\n",
    "print( translator_es_en(sent1_es)[0]['translation_text'] )"
   ]
  },
  {
   "cell_type": "code",
   "execution_count": 24,
   "id": "f49c9566",
   "metadata": {},
   "outputs": [
    {
     "name": "stdout",
     "output_type": "stream",
     "text": [
      "hola me gustaria abrir una cuenta en su banco\n",
      "Hola me gustaría abrir una cuenta en su banco\n"
     ]
    }
   ],
   "source": [
    "print(sent1_es)\n",
    "print( translator_en_es(sent1_en)[0]['translation_text'] )"
   ]
  },
  {
   "cell_type": "code",
   "execution_count": 35,
   "id": "54bacd48",
   "metadata": {},
   "outputs": [
    {
     "name": "stdout",
     "output_type": "stream",
     "text": [
      "0.6884477138519287\n"
     ]
    }
   ],
   "source": [
    "from time import time\n",
    "\n",
    "t1 = time()\n",
    "\n",
    "to_translate = 'me cerraron la cuenta y no se por que, yo tengo pagada todas mis deudas y no entiendo por que me la cerraron'\n",
    "\n",
    "for i in range(1):\n",
    "    conv = translator_es_en( to_translate )[0]['translation_text']\n",
    "    \n",
    "t2 = time()\n",
    "\n",
    "print(t2-t1)\n",
    "#print( conv )"
   ]
  },
  {
   "cell_type": "code",
   "execution_count": 36,
   "id": "b543f62a",
   "metadata": {},
   "outputs": [
    {
     "data": {
      "text/plain": [
       "0.013768954277038574"
      ]
     },
     "execution_count": 36,
     "metadata": {},
     "output_type": "execute_result"
    }
   ],
   "source": [
    "(t2-t1)/50"
   ]
  },
  {
   "cell_type": "code",
   "execution_count": 37,
   "id": "deafb24d",
   "metadata": {},
   "outputs": [
    {
     "data": {
      "text/plain": [
       "[{'translation_text': 'Cerraron mi cuenta y no sé por qué, he pagado todas mis deudas y no entiendo por qué me la cerraron.'}]"
      ]
     },
     "execution_count": 37,
     "metadata": {},
     "output_type": "execute_result"
    }
   ],
   "source": [
    "translator_en_es(conv)"
   ]
  },
  {
   "cell_type": "code",
   "execution_count": 38,
   "id": "3a1e9da8",
   "metadata": {},
   "outputs": [
    {
     "data": {
      "text/plain": [
       "\"They closed my account and I don't know why, I've paid all my debts and I don't understand why they closed it for me.\""
      ]
     },
     "execution_count": 38,
     "metadata": {},
     "output_type": "execute_result"
    }
   ],
   "source": [
    "conv"
   ]
  },
  {
   "cell_type": "code",
   "execution_count": null,
   "id": "2ae48319",
   "metadata": {},
   "outputs": [],
   "source": []
  },
  {
   "cell_type": "code",
   "execution_count": null,
   "id": "c3ddef49",
   "metadata": {},
   "outputs": [],
   "source": []
  }
 ],
 "metadata": {
  "kernelspec": {
   "display_name": "Python 3 (ipykernel)",
   "language": "python",
   "name": "python3"
  },
  "language_info": {
   "codemirror_mode": {
    "name": "ipython",
    "version": 3
   },
   "file_extension": ".py",
   "mimetype": "text/x-python",
   "name": "python",
   "nbconvert_exporter": "python",
   "pygments_lexer": "ipython3",
   "version": "3.9.15"
  }
 },
 "nbformat": 4,
 "nbformat_minor": 5
}
